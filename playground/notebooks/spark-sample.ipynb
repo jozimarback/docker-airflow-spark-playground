{
 "cells": [
  {
   "cell_type": "code",
   "execution_count": 3,
   "id": "18852acf-36b7-4ce8-afa3-5ec446a36bf2",
   "metadata": {},
   "outputs": [
    {
     "name": "stdout",
     "output_type": "stream",
     "text": [
      "root\n",
      " |-- _c0: integer (nullable = true)\n",
      " |-- Name: string (nullable = true)\n",
      " |-- Nation: string (nullable = true)\n",
      " |-- Club: string (nullable = true)\n",
      " |-- Position: string (nullable = true)\n",
      " |-- Age: integer (nullable = true)\n",
      " |-- Overall: integer (nullable = true)\n",
      " |-- Pace: integer (nullable = true)\n",
      " |-- Shooting: integer (nullable = true)\n",
      " |-- Passing: integer (nullable = true)\n",
      " |-- Dribbling: integer (nullable = true)\n",
      " |-- Defending: integer (nullable = true)\n",
      " |-- Physicality: integer (nullable = true)\n",
      " |-- Acceleration: integer (nullable = true)\n",
      " |-- Sprint: integer (nullable = true)\n",
      " |-- Positioning: integer (nullable = true)\n",
      " |-- Finishing: integer (nullable = true)\n",
      " |-- Shot: integer (nullable = true)\n",
      " |-- Long: integer (nullable = true)\n",
      " |-- Volleys: integer (nullable = true)\n",
      " |-- Penalties: integer (nullable = true)\n",
      " |-- Vision: integer (nullable = true)\n",
      " |-- Crossing: integer (nullable = true)\n",
      " |-- Free: integer (nullable = true)\n",
      " |-- Curve: integer (nullable = true)\n",
      " |-- Agility: integer (nullable = true)\n",
      " |-- Balance: integer (nullable = true)\n",
      " |-- Reactions: integer (nullable = true)\n",
      " |-- Ball: integer (nullable = true)\n",
      " |-- Composure: integer (nullable = true)\n",
      " |-- Interceptions: integer (nullable = true)\n",
      " |-- Heading: integer (nullable = true)\n",
      " |-- Def: integer (nullable = true)\n",
      " |-- Standing: integer (nullable = true)\n",
      " |-- Sliding: integer (nullable = true)\n",
      " |-- Jumping: integer (nullable = true)\n",
      " |-- Stamina: integer (nullable = true)\n",
      " |-- Strength: integer (nullable = true)\n",
      " |-- Aggression: integer (nullable = true)\n",
      " |-- Att work rate: string (nullable = true)\n",
      " |-- Def work rate: string (nullable = true)\n",
      " |-- Preferred foot: string (nullable = true)\n",
      " |-- Weak foot: integer (nullable = true)\n",
      " |-- Skill moves: integer (nullable = true)\n",
      " |-- URL: string (nullable = true)\n",
      " |-- Gender: string (nullable = true)\n",
      " |-- GK: double (nullable = true)\n",
      "\n"
     ]
    }
   ],
   "source": [
    "import sys\n",
    "from pyspark import SparkConf, SparkContext\n",
    "from pyspark.sql import SparkSession\n",
    "\n",
    "\n",
    "spark = SparkSession.builder.appName(\"Spark Job\").getOrCreate()\n",
    "\n",
    "\n",
    "# Read file\n",
    "df = spark.read.csv(\"all_players_ea_24_fc.csv\", header=True, inferSchema= True)\n",
    "\n",
    "df.printSchema()"
   ]
  },
  {
   "cell_type": "code",
   "execution_count": null,
   "id": "31dc2c8f-fbb8-4aa7-b2a0-c7d96d31c4c5",
   "metadata": {},
   "outputs": [],
   "source": []
  }
 ],
 "metadata": {
  "kernelspec": {
   "display_name": "Python 3 (ipykernel)",
   "language": "python",
   "name": "python3"
  },
  "language_info": {
   "codemirror_mode": {
    "name": "ipython",
    "version": 3
   },
   "file_extension": ".py",
   "mimetype": "text/x-python",
   "name": "python",
   "nbconvert_exporter": "python",
   "pygments_lexer": "ipython3",
   "version": "3.10.5"
  }
 },
 "nbformat": 4,
 "nbformat_minor": 5
}
